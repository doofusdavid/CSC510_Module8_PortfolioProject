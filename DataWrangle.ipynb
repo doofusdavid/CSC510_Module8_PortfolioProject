{
 "cells": [
  {
   "cell_type": "code",
   "execution_count": 1,
   "metadata": {},
   "outputs": [],
   "source": [
    "import pandas as pd\n"
   ]
  },
  {
   "cell_type": "markdown",
   "metadata": {},
   "source": [
    "## Notes\n",
    "Before even loading this CSV, I made a few changes.  I picked only properties with a sq ft > 1, which should remove all Lot/Land sales.  This sales data is from 9/1/2020 - 9/1/2021.  [Source of data](https://www.larimer.org/assessor/search#/data/?city=FORT%20COLLINS)"
   ]
  },
  {
   "cell_type": "code",
   "execution_count": 2,
   "metadata": {},
   "outputs": [],
   "source": [
    "df = pd.read_csv(\"LC-SalesData-2021-09-06.csv\")"
   ]
  },
  {
   "cell_type": "code",
   "execution_count": 3,
   "metadata": {},
   "outputs": [
    {
     "data": {
      "text/html": [
       "<div>\n",
       "<style scoped>\n",
       "    .dataframe tbody tr th:only-of-type {\n",
       "        vertical-align: middle;\n",
       "    }\n",
       "\n",
       "    .dataframe tbody tr th {\n",
       "        vertical-align: top;\n",
       "    }\n",
       "\n",
       "    .dataframe thead th {\n",
       "        text-align: right;\n",
       "    }\n",
       "</style>\n",
       "<table border=\"1\" class=\"dataframe\">\n",
       "  <thead>\n",
       "    <tr style=\"text-align: right;\">\n",
       "      <th></th>\n",
       "      <th>accountno</th>\n",
       "      <th>parcelnb</th>\n",
       "      <th>saledt</th>\n",
       "      <th>locationaddress</th>\n",
       "      <th>locationcity</th>\n",
       "      <th>locationzipcode</th>\n",
       "      <th>subdivisionid</th>\n",
       "      <th>subdivisiondescr</th>\n",
       "      <th>nbhd</th>\n",
       "      <th>occdescr</th>\n",
       "      <th>bltasoccdesc</th>\n",
       "      <th>bltasid</th>\n",
       "      <th>residentialsf</th>\n",
       "      <th>bsmntsf</th>\n",
       "      <th>bsmntfinsf</th>\n",
       "      <th>garagesf</th>\n",
       "      <th>grossacres</th>\n",
       "      <th>yrblt</th>\n",
       "      <th>salep</th>\n",
       "      <th>value</th>\n",
       "    </tr>\n",
       "  </thead>\n",
       "  <tbody>\n",
       "    <tr>\n",
       "      <th>0</th>\n",
       "      <td>R1600422</td>\n",
       "      <td>9614419390</td>\n",
       "      <td>2021-08-29</td>\n",
       "      <td>7214 AVONDALE RD</td>\n",
       "      <td>FORT COLLINS</td>\n",
       "      <td>80525</td>\n",
       "      <td>18513</td>\n",
       "      <td>RIDGEWOOD HILLS PUD, THIRD FILING</td>\n",
       "      <td>19614.0</td>\n",
       "      <td>Single Family Residential</td>\n",
       "      <td>2 Story</td>\n",
       "      <td>8</td>\n",
       "      <td>2005</td>\n",
       "      <td>947.0</td>\n",
       "      <td>814.0</td>\n",
       "      <td>580.0</td>\n",
       "      <td>0.16</td>\n",
       "      <td>2001</td>\n",
       "      <td>615469.0</td>\n",
       "      <td>455800.0</td>\n",
       "    </tr>\n",
       "    <tr>\n",
       "      <th>1</th>\n",
       "      <td>R1295306</td>\n",
       "      <td>8606223014</td>\n",
       "      <td>2021-08-27</td>\n",
       "      <td>1219 OAK ISLAND CT</td>\n",
       "      <td>FORT COLLINS</td>\n",
       "      <td>80525</td>\n",
       "      <td>156651</td>\n",
       "      <td>OAKRIDGE VILLAGE PUD</td>\n",
       "      <td>19613.0</td>\n",
       "      <td>Townhouse</td>\n",
       "      <td>Townhouse One Story</td>\n",
       "      <td>61</td>\n",
       "      <td>1547</td>\n",
       "      <td>885.0</td>\n",
       "      <td>685.0</td>\n",
       "      <td>440.0</td>\n",
       "      <td>0.14</td>\n",
       "      <td>1989</td>\n",
       "      <td>495000.0</td>\n",
       "      <td>401500.0</td>\n",
       "    </tr>\n",
       "    <tr>\n",
       "      <th>2</th>\n",
       "      <td>R1377272</td>\n",
       "      <td>8606232004</td>\n",
       "      <td>2021-08-26</td>\n",
       "      <td>1318 SILK OAK DR</td>\n",
       "      <td>FORT COLLINS</td>\n",
       "      <td>80525</td>\n",
       "      <td>15669</td>\n",
       "      <td>OAKRIDGE VILLAGE PUD</td>\n",
       "      <td>19613.0</td>\n",
       "      <td>Single Family Residential</td>\n",
       "      <td>2 Story</td>\n",
       "      <td>8</td>\n",
       "      <td>2176</td>\n",
       "      <td>648.0</td>\n",
       "      <td>648.0</td>\n",
       "      <td>672.0</td>\n",
       "      <td>0.20</td>\n",
       "      <td>1994</td>\n",
       "      <td>595000.0</td>\n",
       "      <td>495000.0</td>\n",
       "    </tr>\n",
       "    <tr>\n",
       "      <th>3</th>\n",
       "      <td>R1556681</td>\n",
       "      <td>8830208084</td>\n",
       "      <td>2021-08-26</td>\n",
       "      <td>3220 HEARTHFIRE DR</td>\n",
       "      <td>FORT COLLINS</td>\n",
       "      <td>80524</td>\n",
       "      <td>1946</td>\n",
       "      <td>HEARTHFIRE PUD</td>\n",
       "      <td>18933.0</td>\n",
       "      <td>Single Family Residential</td>\n",
       "      <td>2 Story</td>\n",
       "      <td>8</td>\n",
       "      <td>3094</td>\n",
       "      <td>1554.0</td>\n",
       "      <td>NaN</td>\n",
       "      <td>726.0</td>\n",
       "      <td>0.54</td>\n",
       "      <td>2000</td>\n",
       "      <td>954000.0</td>\n",
       "      <td>692600.0</td>\n",
       "    </tr>\n",
       "    <tr>\n",
       "      <th>4</th>\n",
       "      <td>R1216503</td>\n",
       "      <td>8730416025</td>\n",
       "      <td>2021-08-26</td>\n",
       "      <td>1986 MASSACHUSETTS ST</td>\n",
       "      <td>FORT COLLINS</td>\n",
       "      <td>80525</td>\n",
       "      <td>1570</td>\n",
       "      <td>TIMBERLINE VILLAGE PUD</td>\n",
       "      <td>19724.0</td>\n",
       "      <td>Single Family Residential</td>\n",
       "      <td>Split Level</td>\n",
       "      <td>7</td>\n",
       "      <td>1256</td>\n",
       "      <td>NaN</td>\n",
       "      <td>NaN</td>\n",
       "      <td>440.0</td>\n",
       "      <td>0.16</td>\n",
       "      <td>1986</td>\n",
       "      <td>425000.0</td>\n",
       "      <td>323700.0</td>\n",
       "    </tr>\n",
       "  </tbody>\n",
       "</table>\n",
       "</div>"
      ],
      "text/plain": [
       "  accountno    parcelnb      saledt        locationaddress  locationcity  \\\n",
       "0  R1600422  9614419390  2021-08-29       7214 AVONDALE RD  FORT COLLINS   \n",
       "1  R1295306  8606223014  2021-08-27     1219 OAK ISLAND CT  FORT COLLINS   \n",
       "2  R1377272  8606232004  2021-08-26       1318 SILK OAK DR  FORT COLLINS   \n",
       "3  R1556681  8830208084  2021-08-26     3220 HEARTHFIRE DR  FORT COLLINS   \n",
       "4  R1216503  8730416025  2021-08-26  1986 MASSACHUSETTS ST  FORT COLLINS   \n",
       "\n",
       "    locationzipcode  subdivisionid                   subdivisiondescr  \\\n",
       "0             80525          18513  RIDGEWOOD HILLS PUD, THIRD FILING   \n",
       "1             80525         156651               OAKRIDGE VILLAGE PUD   \n",
       "2             80525          15669               OAKRIDGE VILLAGE PUD   \n",
       "3             80524           1946                     HEARTHFIRE PUD   \n",
       "4             80525           1570             TIMBERLINE VILLAGE PUD   \n",
       "\n",
       "      nbhd                   occdescr         bltasoccdesc   bltasid  \\\n",
       "0  19614.0  Single Family Residential              2 Story         8   \n",
       "1  19613.0                  Townhouse  Townhouse One Story        61   \n",
       "2  19613.0  Single Family Residential              2 Story         8   \n",
       "3  18933.0  Single Family Residential              2 Story         8   \n",
       "4  19724.0  Single Family Residential          Split Level         7   \n",
       "\n",
       "    residentialsf   bsmntsf   bsmntfinsf   garagesf   grossacres   yrblt  \\\n",
       "0            2005     947.0        814.0      580.0         0.16    2001   \n",
       "1            1547     885.0        685.0      440.0         0.14    1989   \n",
       "2            2176     648.0        648.0      672.0         0.20    1994   \n",
       "3            3094    1554.0          NaN      726.0         0.54    2000   \n",
       "4            1256       NaN          NaN      440.0         0.16    1986   \n",
       "\n",
       "      salep     value  \n",
       "0  615469.0  455800.0  \n",
       "1  495000.0  401500.0  \n",
       "2  595000.0  495000.0  \n",
       "3  954000.0  692600.0  \n",
       "4  425000.0  323700.0  "
      ]
     },
     "execution_count": 3,
     "metadata": {},
     "output_type": "execute_result"
    }
   ],
   "source": [
    "df.head()"
   ]
  },
  {
   "cell_type": "code",
   "execution_count": 6,
   "metadata": {},
   "outputs": [
    {
     "data": {
      "text/plain": [
       "Index(['accountno', ' parcelnb', ' saledt', ' locationaddress',\n",
       "       ' locationcity', ' locationzipcode', ' subdivisionid',\n",
       "       ' subdivisiondescr', ' nbhd', ' occdescr', ' bltasoccdesc', ' bltasid',\n",
       "       ' residentialsf', ' bsmntsf', ' bsmntfinsf', ' garagesf', ' grossacres',\n",
       "       ' yrblt', ' salep', ' value'],\n",
       "      dtype='object')"
      ]
     },
     "execution_count": 6,
     "metadata": {},
     "output_type": "execute_result"
    }
   ],
   "source": [
    "df.columns"
   ]
  },
  {
   "cell_type": "markdown",
   "metadata": {},
   "source": [
    "Our columns have spaces in them, so we want to remove those spaces"
   ]
  },
  {
   "cell_type": "code",
   "execution_count": 10,
   "metadata": {},
   "outputs": [],
   "source": [
    "df.rename(columns=lambda x: x.strip(), inplace=True)"
   ]
  },
  {
   "cell_type": "code",
   "execution_count": 11,
   "metadata": {},
   "outputs": [
    {
     "data": {
      "text/plain": [
       "Index(['accountno', 'parcelnb', 'saledt', 'locationaddress', 'locationcity',\n",
       "       'locationzipcode', 'subdivisionid', 'subdivisiondescr', 'nbhd',\n",
       "       'occdescr', 'bltasoccdesc', 'bltasid', 'residentialsf', 'bsmntsf',\n",
       "       'bsmntfinsf', 'garagesf', 'grossacres', 'yrblt', 'salep', 'value'],\n",
       "      dtype='object')"
      ]
     },
     "execution_count": 11,
     "metadata": {},
     "output_type": "execute_result"
    }
   ],
   "source": [
    "df.columns"
   ]
  },
  {
   "cell_type": "code",
   "execution_count": 22,
   "metadata": {},
   "outputs": [
    {
     "data": {
      "text/plain": [
       "251"
      ]
     },
     "execution_count": 22,
     "metadata": {},
     "output_type": "execute_result"
    }
   ],
   "source": [
    "len(df.loc[:,\"subdivisiondescr\"].unique())"
   ]
  },
  {
   "cell_type": "markdown",
   "metadata": {},
   "source": [
    "There are 251 unique subdivisions among 500 total sales.  This made me wonder, with exactly 500 sales if I was really getting all of them."
   ]
  },
  {
   "cell_type": "code",
   "execution_count": 44,
   "metadata": {},
   "outputs": [],
   "source": [
    "from datetime import date"
   ]
  },
  {
   "cell_type": "markdown",
   "metadata": {},
   "source": [
    "The larimer county data api takes in a very strange date format.  We need to duplicate it, because we're getting far more than 500 results, but only 500 are being returned.  We need to iterate through each month and get a month of data at a time.\n",
    "\n",
    "Wed%20Jul%2001%202020%2000:00:00%20GMT-0600%20(Mountain%20Daylight%20Time)"
   ]
  },
  {
   "cell_type": "code",
   "execution_count": 34,
   "metadata": {},
   "outputs": [],
   "source": [
    "today = date.today()"
   ]
  },
  {
   "cell_type": "code",
   "execution_count": 35,
   "metadata": {},
   "outputs": [
    {
     "data": {
      "text/plain": [
       "datetime.date(2021, 9, 6)"
      ]
     },
     "execution_count": 35,
     "metadata": {},
     "output_type": "execute_result"
    }
   ],
   "source": [
    "today"
   ]
  },
  {
   "cell_type": "code",
   "execution_count": 43,
   "metadata": {},
   "outputs": [
    {
     "data": {
      "text/plain": [
       "'Mon Sep 06 2021 00:00:00 GMT-0600 (Mountain Daylight Time)'"
      ]
     },
     "execution_count": 43,
     "metadata": {},
     "output_type": "execute_result"
    }
   ],
   "source": [
    "today.strftime( \"%a %b %d %Y 00:00:00 GMT-0600 (Mountain Daylight Time)\")"
   ]
  },
  {
   "cell_type": "markdown",
   "metadata": {},
   "source": [
    "This is our date range.  We need to iterate through it to get our data."
   ]
  },
  {
   "cell_type": "code",
   "execution_count": 46,
   "metadata": {},
   "outputs": [
    {
     "data": {
      "text/plain": [
       "((7, 2020),\n",
       " (8, 2020),\n",
       " (9, 2020),\n",
       " (10, 2020),\n",
       " (11, 2020),\n",
       " (12, 2020),\n",
       " (1, 2021),\n",
       " (2, 2021),\n",
       " (3, 2021),\n",
       " (4, 2021),\n",
       " (5, 2021),\n",
       " (6, 2021),\n",
       " (7, 2021),\n",
       " (8, 2021),\n",
       " (9, 2021))"
      ]
     },
     "execution_count": 46,
     "metadata": {},
     "output_type": "execute_result"
    }
   ],
   "source": [
    "pr = pd.period_range(start='2020-07',end='2021-09', freq='M')\n",
    "prTuples = tuple([(period.month,period.year) for period in pr])\n",
    "prTuples"
   ]
  },
  {
   "cell_type": "code",
   "execution_count": 47,
   "metadata": {},
   "outputs": [],
   "source": [
    "\n",
    "# import urllib library\n",
    "from urllib.request import urlopen\n",
    "# import json\n",
    "import json\n",
    "\n",
    "url = \"https://apps.larimer.org/api/assessor/?prop=saledata&city=FORT%20COLLINS&ecoarea=undefined&nbhd=&from_date={}&to_date={}&from_price=undefined&to_price=undefined&from_sf=1&to_sf=undefined&from_acres=undefined&to_acres=undefined&from_yrblt=undefined&to_yrblt=undefined&ressf=undefined&resyrblt=undefined&ressubno=undefined&style=undefined&resnbd=undefined&type=json&filename=LC-SalesData&viewfile=1\"\n"
   ]
  },
  {
   "cell_type": "code",
   "execution_count": null,
   "metadata": {},
   "outputs": [],
   "source": [
    "for i in prTuples:\n",
    "    "
   ]
  }
 ],
 "metadata": {
  "kernelspec": {
   "display_name": "Python 3",
   "language": "python",
   "name": "python3"
  },
  "language_info": {
   "codemirror_mode": {
    "name": "ipython",
    "version": 3
   },
   "file_extension": ".py",
   "mimetype": "text/x-python",
   "name": "python",
   "nbconvert_exporter": "python",
   "pygments_lexer": "ipython3",
   "version": "3.7.4"
  }
 },
 "nbformat": 4,
 "nbformat_minor": 4
}
